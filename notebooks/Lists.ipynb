{
 "cells": [
  {
   "cell_type": "code",
   "execution_count": 4,
   "id": "e04daf10-c0a5-4e4b-b391-53a7520b0558",
   "metadata": {},
   "outputs": [],
   "source": [
    "%run ./Reaction_Functions.ipynb\n",
    "%run ./Dictionnaries.ipynb"
   ]
  },
  {
   "cell_type": "code",
   "execution_count": 5,
   "id": "9e63d6a2-c4db-4e1b-ae32-164d4175e2b0",
   "metadata": {},
   "outputs": [],
   "source": [
    "##All the Start patterns that permit to identify the reaction\n",
    "\n",
    "Start = [\"CC(=O)C\", \"OCCO\", \"OCCCO\" , \"NN\", \"OCCCCC(=O)CCCCO\", \"CC(O)(O)C\", \"c1ccc2c(c1)c[nH]c2CCN\", \n",
    "         \"CC(OC)(OC)C\", \"CN\", \"C#N\", \"CC(=O)CCC(=O)C\", \"CC(=O)\", \"C1CCC=CC(=O)1\", \"CC(=O)OC\",\n",
    "         \"CC(=O)N(C)C\", \"C[C@@H](O)CC(=O)C\", \"c1ccccc1O\", \"CC(=O)[Si](CC)(CC)CC\", \"CC=CC(=O)C\", \n",
    "         \"P(c1ccccc1)(c1ccccc1)(c1cccccc1)CC\", \"P(=O)(OC)(OC)C\", \"P(OC)(OC)(OC)\", \"CCI\", \"CCBr\",\n",
    "         \"CCF\", \"CCCl\", \"P(OCC(F)(F)F)(OCC(F)(F)F)(=O)CC(=O)OC\" ]\n",
    "\n",
    "Start2 = [\"N=O\", \"NO\", \"OCCO\", \"OCCCO\", \"NC\", \"CN\", \"NN\", \"CC(OC)(OC)C\", \"c1ccc2c(c1)c[nH]c2CCN\", \n",
    "          \"CC=O\", \"c1ccccc1O\", \"CC(=O)C\", \"CC=CC(=O)C\",\"CC(O)C\", \"P(c1ccccc1)(c1ccccc1)(c1cccccc1)CC\", \n",
    "          \"P(=O)(OC)(OC)C\", \"CCI\", \"CCBr\", \"CCF\", \"CCCl\", \"P(OCC(F)(F)F)(OCC(F)(F)F)(=O)CC(=O)OC\"]\n",
    "\n",
    "\n",
    "##All the Finish patterns tht permit to identify the reactions\n",
    "\n",
    "Finish = [\"CC(O)C\", \"CC(O)(O)C\",\"CC(O)(OC)C\", \"CC(OC)(OC)C\",\"C1(C)(C)OCCO1\", \n",
    "          \"C1(C)(C)OCCCO1\",\"CC(=NC)C\",\"CC(=NO)C\", \"CC(=NN)C\", \"O1CCCC(C1)1OCCCC1\", \n",
    "          \"C1(C)(C)OC(C)C(C)O1\",\"n1CC2=C(C(C)(C)1)NC3=C2C=CC=C3\", \"NCCS(=O)(=O)[O-].[Na+]\", \n",
    "          \"CC(O)(S(=O)(=O)[O-].[Na+])C\", \"CC(N)(C#N)C\", \"CC(O)(CN)C\", \"CC(O)(COO)C\", \"CC(O)(C#N)C\",\n",
    "          \"Cn1c(C)ccc1(C)\", \"CC([O-])=CC\", \"CC(O)C\", \"CCO\", \"C1CCC=CC(O)1\", \"CCN(C)C\", \"CC(NC)C\", \"CCC\",\n",
    "          \"CC(=O)OCC\", \"CC[C@H](O)C[C@H](C)OC(=O)C\", \"c1ccccc1C(=O)O\", \"c1ccccc1C(=O)Oc1ccccc1\", \n",
    "          \"CCC(=O)C(O[Si](CC)(CC)CC)C\", \"CC(=O)C(C)CC(=O)C\", \"CC=C(C)C\", \"CC=CC\", \"P(=O)(OC)(OC)CC\",\n",
    "          \"C/C=C\\C(=O)OC\", \"C=O\", \"c1ccccc1CO\", \"CO\" ]\n",
    "\n",
    "## All the available reaction conditions \n",
    "\n",
    "Condition = [ \"Base and Nucleophile\", \"Acid and Nucleophile\", \"H2O and acid\", \" H+ and 1equiv MeOH\", \n",
    "             \"H+ and 2equiv MeOH\",\"Acid\", \"pH>6\", \"4<pH<6\", \"Base\", \"OCCS(=O)(=O)[O-].[Na+]\", \n",
    "             \"S(=O)(=O)[O-].[Na+]\", \"NH3, HCN\", \"HCN, LiAlH4\", \"H+,H2O\", \"HCN\", \"C2OOH\", \"Base\", \"H-\",\n",
    "             \"NaBH4, -78°C\", \"NaBH4, CeCl3, MeOH\", \"LiAlH4, 2 équiv.\", \"LiAlH4\",  \"H+, NaBH3CN\", \"NH2NH2, KOH, 180°C\",\n",
    "             \"Zn(Hg), HCl, reflux\", \"Al(OR)3\", \"SmI2, THF, -10°C\", \"KOH, reflux\", \"CN-, EtOH, H2O\",\n",
    "             \"KCN (0,3 equiv), 18-C-6 (0,1 equiv)\", \"Catalyst: CN\", \"Al(iPr)3\", \"KHMDS, 18-Crown-6, -78°C\", \"H+\"]\n",
    "\n",
    "## All the reactions names \n",
    "\n",
    "Reaction = [ \"wolf_kishner_huang_reduction\", \"nucleophilic_attack2\", \"hydration\", \"Acetalisation1\", \"Acetalisation2\", \"Cyclic_Acetal_Formation1\",\n",
    "            \"Cyclic_Acetal_Formation2\", \"Imine_Formation1\", \"Imine_Formation2\", \"Oxine_formation\", \"Hydrazone_formation\", \n",
    "            \"Spiro_Acetal_Formation\", \"Transacetalisation\", \n",
    "            \"carbonyles_deprotonation\", \"heterocycle_synthesis\", \"addition_cyanide\", \"hydrolysis_cyanohydrine\", \n",
    "            \"reduction_cyanohydrine\", \"strecker_reaction\", \"bisulfite_add_compounds1\", \"bisulfite_add_compounds2\", \"general_carbonyl_reduction\", \n",
    "            \"aldehyde_reduction\", \"luche_reaction\", \"ester_reduction\", \"amide_reduction\", \"iminie_reduction\", \"clemmesen_reduction\", \n",
    "            \"tischenko_reaction\", \"tischenko_evans_reaction\", \"canizzaro_reaction\", \"benzoin_reaction\", \"cross_benzoin_reaction\", \"stetter_reaction\", \n",
    "            \"mpv_reaction\", \"wittig_reaction\", \"horner_wadsworth_emmons_rxn\", \"abruzov_reaction_iode\", \"abruzov_reaction_brome\", \n",
    "            \"abruzov_reaction_fluor\", \"abruzov_reaction_chlore\", \"still_grenari_olefination\", \"pinacol\", \"nucleophilic_attack1\",  \"Pictet_Spengler_Reaction\"\n",
    "                ]\n",
    "\n",
    "## Link between the reaction and its corresponding function\n",
    "\n",
    "function_reaction = {\"wolf_kishner_huang_reduction\": WolfKishner_function, \"Oxine_formation\": OxineFormation_function, \n",
    "                     \"hydration\": Hydration_function, \"bisulfite_add_compounds1\": bisulfite_add_compounds1_function, \n",
    "                     \"strecker_reaction\": strecker_reaction_function, \"reduction_cyanohydrine\": reduction_cyanohydrine_function, \"pinacol\": pinacol_function,\n",
    "                     \"heterocycle_synthesis\": heterocycle_synthesis_function, \"hydrolysis_cyanohydrine\":hydrolysis_cyanohydrine_function,\n",
    "                     \"Imine_Formation2\": Imine_Formation2_function, \"addition_cyanide\": addition_cyanide_function, \n",
    "                     \"carbonyles_deprotonation\": carbonyles_deprotonation_function}"
   ]
  },
  {
   "cell_type": "code",
   "execution_count": null,
   "id": "d0e986fc-8988-4984-bb5f-faeadcbe9075",
   "metadata": {},
   "outputs": [],
   "source": []
  }
 ],
 "metadata": {
  "kernelspec": {
   "display_name": "Python 3 (ipykernel)",
   "language": "python",
   "name": "python3"
  },
  "language_info": {
   "codemirror_mode": {
    "name": "ipython",
    "version": 3
   },
   "file_extension": ".py",
   "mimetype": "text/x-python",
   "name": "python",
   "nbconvert_exporter": "python",
   "pygments_lexer": "ipython3",
   "version": "3.10.14"
  }
 },
 "nbformat": 4,
 "nbformat_minor": 5
}
